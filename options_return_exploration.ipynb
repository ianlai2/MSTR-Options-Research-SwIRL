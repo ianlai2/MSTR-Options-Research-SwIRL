{
 "cells": [
  {
   "cell_type": "code",
   "execution_count": null,
   "id": "b460cf51",
   "metadata": {},
   "outputs": [],
   "source": [
    "import numpy as np\n",
    "import pandas as pd\n",
    "import pyarrow as pa\n",
    "import pyarrow.parquet as pq    "
   ]
  },
  {
   "cell_type": "code",
   "execution_count": null,
   "id": "4473ae30",
   "metadata": {},
   "outputs": [],
   "source": [
    "cols = []   ##TODO: Specify desired columns here\n",
    "df = pd.read_parquet(\"MSTR_Options_cleaned.parquet\", columns=cols, engine=\"pyarrow\")"
   ]
  }
 ],
 "metadata": {
  "language_info": {
   "name": "python"
  }
 },
 "nbformat": 4,
 "nbformat_minor": 5
}
