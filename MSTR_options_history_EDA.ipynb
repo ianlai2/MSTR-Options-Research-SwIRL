{
 "cells": [
  {
   "cell_type": "code",
   "execution_count": 80,
   "id": "082aee40",
   "metadata": {},
   "outputs": [],
   "source": [
    "import os\n",
    "import dotenv\n",
    "import sys\n",
    "dotenv.load_dotenv()\n",
    "sys.path.append(os.getenv('LIBRARY_PATH'))\n",
    "\n",
    "import pandas as pd\n",
    "import numpy as np\n",
    "\n",
    "# Custom imports\n",
    "from finance import implied_volatility, black_scholes"
   ]
  },
  {
   "cell_type": "markdown",
   "id": "c096bed4",
   "metadata": {},
   "source": [
    "# Initial EDA"
   ]
  },
  {
   "cell_type": "code",
   "execution_count": null,
   "id": "17e97c77",
   "metadata": {},
   "outputs": [
    {
     "name": "stdout",
     "output_type": "stream",
     "text": [
      "<class 'pandas.core.frame.DataFrame'>\n",
      "Index: 641103 entries, 0 to 641102\n",
      "Data columns (total 8 columns):\n",
      " #   Column           Non-Null Count   Dtype  \n",
      "---  ------           --------------   -----  \n",
      " 0   Timestamp        641103 non-null  object \n",
      " 1   Stock Price      613990 non-null  float64\n",
      " 2   Symbol           641103 non-null  object \n",
      " 3   Option Type      641103 non-null  object \n",
      " 4   Strike Price     641103 non-null  float64\n",
      " 5   Ask Price        641103 non-null  float64\n",
      " 6   Bid Price        641103 non-null  float64\n",
      " 7   Expiration Date  641103 non-null  object \n",
      "dtypes: float64(4), object(4)\n",
      "memory usage: 44.0+ MB\n"
     ]
    }
   ],
   "source": [
    "data = pd.read_csv(os.getenv('DATA_PATH'))\n",
    "# full data check\n",
    "data.info()"
   ]
  },
  {
   "cell_type": "markdown",
   "id": "3dbd8b98",
   "metadata": {},
   "source": [
    "## Removing all non-trading days"
   ]
  },
  {
   "cell_type": "code",
   "execution_count": null,
   "id": "b1466d08",
   "metadata": {},
   "outputs": [
    {
     "name": "stdout",
     "output_type": "stream",
     "text": [
      "Data covers 2024-08-09 through 2025-10-21\n",
      "Rows before: 1198749\n",
      "Rows after (NYSE trading days): 1122660\n",
      "Rows removed: 76089\n",
      "NaNs in 'Stock Price' after filtering: 0\n",
      "\n",
      "Missing summary after filtering to trading days:\n",
      "                 Missing Values  Percentage Missing\n",
      "Timestamp                     0                 0.0\n",
      "Stock Price                   0                 0.0\n",
      "Symbol                        0                 0.0\n",
      "Option Type                   0                 0.0\n",
      "Strike Price                  0                 0.0\n",
      "Ask Price                     0                 0.0\n",
      "Bid Price                     0                 0.0\n",
      "Expiration Date               0                 0.0\n"
     ]
    }
   ],
   "source": [
    "# Filter to exchange trading days (NYSE) - removes weekends & market holidays\n",
    "import pandas_market_calendars as mcal\n",
    "\n",
    "# ensure Timestamp is datetime\n",
    "data['Timestamp'] = pd.to_datetime(data['Timestamp'])\n",
    "\n",
    "start = data['Timestamp'].dt.date.min()\n",
    "end = data['Timestamp'].dt.date.max()\n",
    "print(f\"Data covers {start} through {end}\")\n",
    "\n",
    "nyse = mcal.get_calendar('NYSE')\n",
    "schedule = nyse.schedule(start_date=start, end_date=end)\n",
    "trading_days = pd.to_datetime(schedule.index).date\n",
    "\n",
    "# Filter rows whose date is in the NYSE trading days\n",
    "data_trading = data[data['Timestamp'].dt.date.isin(trading_days)].copy()\n",
    "\n",
    "print('Rows before:', len(data))\n",
    "print('Rows after (NYSE trading days):', len(data_trading))\n",
    "print('Rows removed:', len(data) - len(data_trading))\n",
    "print(\"NaNs in 'Stock Price' after filtering:\", data_trading['Stock Price'].isna().sum())\n",
    "\n",
    "# quick missing summary\n",
    "missing_summary_trading = pd.DataFrame({\n",
    "    'Missing Values': data_trading.isnull().sum(),\n",
    "    'Percentage Missing': (data_trading.isnull().sum() / len(data_trading)) * 100\n",
    "}).sort_values('Missing Values', ascending=False)\n",
    "\n",
    "print('\\nMissing summary after filtering to trading days:')\n",
    "print(missing_summary_trading)"
   ]
  },
  {
   "cell_type": "markdown",
   "id": "b4cb0074",
   "metadata": {},
   "source": [
    "## Validating data"
   ]
  },
  {
   "cell_type": "code",
   "execution_count": 79,
   "id": "3495daa3",
   "metadata": {},
   "outputs": [
    {
     "name": "stdout",
     "output_type": "stream",
     "text": [
      "Empty-array encoded Stock Price count: 0\n",
      "Empty-string encoded Stock Price count: 0\n",
      "\n",
      "No empty-array encoded rows found.\n",
      "No empty-string encoded rows found.\n",
      "\n",
      "Total problematic rows: 0\n"
     ]
    }
   ],
   "source": [
    "# Check for Stock Price values encoded as empty arrays or empty strings\n",
    "import inspect\n",
    "\n",
    "def is_empty_array(x):\n",
    "    return isinstance(x, (list, tuple, np.ndarray)) and len(x) == 0\n",
    "\n",
    "def is_empty_string(x):\n",
    "    return isinstance(x, str) and x.strip() == ''\n",
    "\n",
    "mask_empty_array = data_trading['Stock Price'].apply(is_empty_array)\n",
    "mask_empty_string = data_trading['Stock Price'].apply(is_empty_string)\n",
    "\n",
    "count_empty_array = mask_empty_array.sum()\n",
    "count_empty_string = mask_empty_string.sum()\n",
    "\n",
    "print(f\"Empty-array encoded Stock Price count: {count_empty_array}\")\n",
    "print(f\"Empty-string encoded Stock Price count: {count_empty_string}\")\n",
    "\n",
    "# Show example rows (first 10) for each case\n",
    "if count_empty_array:\n",
    "    print('\\nExamples of empty-array encoded rows:')\n",
    "    display(data_trading.loc[mask_empty_array].head(10))\n",
    "else:\n",
    "    print('\\nNo empty-array encoded rows found.')\n",
    "\n",
    "if count_empty_string:\n",
    "    print('Examples of empty-string encoded rows:')\n",
    "    display(data_trading.loc[mask_empty_string].head(10))\n",
    "else:\n",
    "    print('No empty-string encoded rows found.')\n",
    "\n",
    "# Combined mask\n",
    "mask_combined = mask_empty_array | mask_empty_string\n",
    "print('\\nTotal problematic rows:', mask_combined.sum())"
   ]
  },
  {
   "cell_type": "markdown",
   "id": "631733ba",
   "metadata": {},
   "source": []
  }
 ],
 "metadata": {
  "kernelspec": {
   "display_name": ".venv",
   "language": "python",
   "name": "python3"
  },
  "language_info": {
   "codemirror_mode": {
    "name": "ipython",
    "version": 3
   },
   "file_extension": ".py",
   "mimetype": "text/x-python",
   "name": "python",
   "nbconvert_exporter": "python",
   "pygments_lexer": "ipython3",
   "version": "3.12.0"
  }
 },
 "nbformat": 4,
 "nbformat_minor": 5
}
